{
 "cells": [
  {
   "cell_type": "markdown",
   "id": "fba6b40b-b31f-40fe-9e97-01bc723a1818",
   "metadata": {},
   "source": [
    "## Q1: What is Estimation Statistics? Explain point estimate and interval estimate."
   ]
  },
  {
   "cell_type": "markdown",
   "id": "416c2551-b434-40e8-a995-4167e99fdcd6",
   "metadata": {},
   "source": [
    "### Estimation is a specified observed numerical value used to estimate an unknown population parameter.\n",
    "\n",
    "### Point estimate is single numerical value used to estimate.\n",
    "### Interval  Estimate is range of value used to estimate."
   ]
  },
  {
   "cell_type": "markdown",
   "id": "5ed9bf7f-99d1-4cac-95e3-428fc6e6560c",
   "metadata": {},
   "source": [
    "## Q2. Write a Python function to estimate the population mean using a sample mean and standard deviation."
   ]
  },
  {
   "cell_type": "markdown",
   "id": "fc4d54cd-a203-4c63-b064-0937aadfc186",
   "metadata": {},
   "source": [
    "## Q3: What is Hypothesis testing? Why is it used? State the importance of Hypothesis testing."
   ]
  },
  {
   "cell_type": "markdown",
   "id": "3d3f7b28-09ed-4355-be21-3ae9495ecba6",
   "metadata": {},
   "source": [
    "### Hypothesis testing is a systematic procedure for deciding whether the results of a research study support a particular theory which applies to a population. Hypothesis testing uses sample data to evaluate a hypothesis about a population.\n",
    "### This essentially allows an organization to verify its analysis is correct before committing resources to implement a broader strategy."
   ]
  },
  {
   "cell_type": "markdown",
   "id": "6a32105f-3b3c-4c3d-9a7f-6e68fadf0e8f",
   "metadata": {},
   "source": [
    "## Q4. Create a hypothesis that states whether the average weight of male college students is greater than the average weight of female college students."
   ]
  },
  {
   "cell_type": "markdown",
   "id": "c6f42caa-b75c-4a7b-8fe3-21d29642b7c9",
   "metadata": {},
   "source": [
    "### H0: Avg. weight of male > Avg. weight of female\n",
    "### H1: Avg. weight of male !> Avg. weight of female"
   ]
  },
  {
   "cell_type": "markdown",
   "id": "fbb9b1e7-a39c-4e23-966c-e4cd99725e04",
   "metadata": {},
   "source": [
    "## Q5. Write a Python script to conduct a hypothesis test on the difference between two population means, given a sample from each population."
   ]
  },
  {
   "cell_type": "markdown",
   "id": "8bbed16b-08c2-43b3-9c6b-b736fdcfe402",
   "metadata": {},
   "source": [
    "## Q6: What is a null and alternative hypothesis? Give some examples."
   ]
  },
  {
   "cell_type": "markdown",
   "id": "5360f365-0513-428c-9a38-08bbf16af2da",
   "metadata": {},
   "source": [
    "### Null hypothesis is the assumption we are begining with before testing.\n",
    "### Alternate hypothesis is opposite of null hypothesis.\n",
    "### eg: H0: population mean= 10   H1: population mean!= 10     "
   ]
  },
  {
   "cell_type": "markdown",
   "id": "dc14716b-5998-45d6-af08-7c16eecefde8",
   "metadata": {},
   "source": [
    "## Q7: Write down the steps involved in hypothesis testing."
   ]
  },
  {
   "cell_type": "markdown",
   "id": "45d3a642-5883-4a47-a159-db6d9443f64d",
   "metadata": {},
   "source": [
    "### Step1: Make a hypothesis\n",
    "### Step2: Set the criteria for desicion\n",
    "### Step3: Compute the test statistic\n",
    "### Step4: Make a decision"
   ]
  },
  {
   "cell_type": "markdown",
   "id": "559c3a30-9e97-4592-97a6-7b3bb236c7ab",
   "metadata": {},
   "source": [
    "## Q8. Define p-value and explain its significance in hypothesis testing."
   ]
  },
  {
   "cell_type": "markdown",
   "id": "afd5c7dc-a3e0-4247-a261-48497212ca2f",
   "metadata": {},
   "source": [
    "### The probability under the assumption of no effect or no difference (null hypothesis), of obtaining a result equal to or more extreme than what was actually observed.\n",
    "### It tells us whether the observed difference is a \"true\" difference or is occurring simply by chance"
   ]
  },
  {
   "cell_type": "markdown",
   "id": "e9207be7-6694-4279-bbb5-bbae2fba757f",
   "metadata": {},
   "source": [
    "## Q9. Generate a Student's t-distribution plot using Python's matplotlib library, with the degrees of freedom parameter set to 10."
   ]
  },
  {
   "cell_type": "code",
   "execution_count": 12,
   "id": "ab0a4307-0c08-4b47-b92d-6f9d27ac46c9",
   "metadata": {},
   "outputs": [
    {
     "name": "stdout",
     "output_type": "stream",
     "text": [
      "Distribution:  [0.         0.06122449 0.12244898 0.18367347 0.24489796 0.30612245\n",
      " 0.36734694 0.42857143 0.48979592 0.55102041 0.6122449  0.67346939\n",
      " 0.73469388 0.79591837 0.85714286 0.91836735 0.97959184 1.04081633\n",
      " 1.10204082 1.16326531 1.2244898  1.28571429 1.34693878 1.40816327\n",
      " 1.46938776 1.53061224 1.59183673 1.65306122 1.71428571 1.7755102\n",
      " 1.83673469 1.89795918 1.95918367 2.02040816 2.08163265 2.14285714\n",
      " 2.20408163 2.26530612 2.32653061 2.3877551  2.44897959 2.51020408\n",
      " 2.57142857 2.63265306 2.69387755 2.75510204 2.81632653 2.87755102\n",
      " 2.93877551 3.        ]\n"
     ]
    },
    {
     "data": {
      "image/png": "[encoded data removed]",
      "text/plain": [
       "<Figure size 600x300 with 1 Axes>"
      ]
     },
     "metadata": {},
     "output_type": "display_data"
    }
   ],
   "source": [
    "import numpy as np\n",
    "import matplotlib.pyplot as plt\n",
    "\n",
    "distribution = np.linspace(0, np.minimum(rv.dist.b, 3))\n",
    "print(\"Distribution: \", distribution)\n",
    "plt.figure(figsize=(6,3))\n",
    "plot = plt.plot(distribution, rv.pdf(distribution))"
   ]
  },
  {
   "cell_type": "markdown",
   "id": "619e9550-1c5a-4bd5-a703-de19a158d51d",
   "metadata": {},
   "source": [
    "## Q10. Write a Python program to calculate the two-sample t-test for independent samples, given two random samples of equal size and a null hypothesis that the population means are equal."
   ]
  },
  {
   "cell_type": "markdown",
   "id": "1f3444cc-85a3-4383-bfc3-b179c9dc90df",
   "metadata": {},
   "source": [
    "## Q11: What is Student’s t distribution? When to use the t-Distribution."
   ]
  },
  {
   "cell_type": "markdown",
   "id": "cca47881-a895-46cd-a4aa-063cab268a19",
   "metadata": {},
   "source": [
    "### The t-distribution, also known as the Student's t-distribution, is a type of probability distribution that is similar to the normal distribution with its bell shape but has heavier tails. It is used for estimating population parameters for small sample sizes or unknown variances."
   ]
  },
  {
   "cell_type": "markdown",
   "id": "45ba4fd3-a590-462a-89b7-7eab615dc986",
   "metadata": {},
   "source": [
    "## Q12: What is t-statistic? State the formula for t-statistic."
   ]
  },
  {
   "cell_type": "markdown",
   "id": "7a7e26c0-9bae-4209-aa16-a34c1f5e5935",
   "metadata": {},
   "source": [
    "### the ratio of the departure of the estimated value of a parameter from its hypothesized value to its standard error"
   ]
  },
  {
   "cell_type": "markdown",
   "id": "5a1b98a7-d80e-4bf3-adc4-27587b55d163",
   "metadata": {},
   "source": [
    "### t= (sample mean - population mean)/(sample standard deviation/square root of sample size)"
   ]
  },
  {
   "cell_type": "markdown",
   "id": "c4ec675d-cc3f-4e14-a099-93a9e9fc1b7f",
   "metadata": {},
   "source": [
    "## Q13. A coffee shop owner wants to estimate the average daily revenue for their shop. They take a random sample of 50 days and find the sample mean revenue to be 500 with a standard deviation of 50. Estimate the population mean revenue with a 95% confidence interval."
   ]
  },
  {
   "cell_type": "markdown",
   "id": "0742e9be-627e-4648-a15a-5f2f446db9b8",
   "metadata": {},
   "source": [
    "### the C.I. will be 485.7871 to 514.2128"
   ]
  },
  {
   "cell_type": "markdown",
   "id": "272f5e39-02c8-49c0-a1d4-2993ea2e89cf",
   "metadata": {},
   "source": [
    "## Q14. A researcher hypothesizes that a new drug will decrease blood pressure by 10 mmHg. They conduct a clinical trial with 100 patients and find that the sample mean decrease in blood pressure is 8 mmHg with a standard deviation of 3 mmHg. Test the hypothesis with a significance level of 0.05."
   ]
  },
  {
   "cell_type": "code",
   "execution_count": null,
   "id": "71a643a6-1dfc-4b47-8586-fdf6216d67b4",
   "metadata": {},
   "outputs": [],
   "source": [
    "''' \n",
    "H0: mu=10\n",
    "H1: mu!=10\n",
    "\n",
    "here population std. is not known so we use t test:\n",
    "t- statistics = -4.714\n",
    "\n",
    "df=50-1=49\n",
    "t value at .05,49 = 2.01\n",
    " \n",
    "since, -4.714 < -2.01\n",
    "Hence we reject the null hypothesis\n",
    "'''"
   ]
  },
  {
   "cell_type": "markdown",
   "id": "59c8bba3-1f25-48a6-bb18-4104ae1d6db5",
   "metadata": {},
   "source": [
    "## Q15. An electronics company produces a certain type of product with a mean weight of 5 pounds and a standard deviation of 0.5 pounds. A random sample of 25 products is taken, and the sample mean weight is found to be 4.8 pounds. Test the hypothesis that the true mean weight of the products is less than 5 pounds with a significance level of 0.01."
   ]
  },
  {
   "cell_type": "code",
   "execution_count": null,
   "id": "a0ca6ab4-e5be-4352-b0e9-7f3613c5c626",
   "metadata": {},
   "outputs": [],
   "source": [
    "'''\n",
    "H0: mu=5\n",
    "H1: mu<5  (one tail test)\n",
    " \n",
    "here sample size is less than 30 so we use t-test:\n",
    "t-statitics=2\n",
    "\n",
    "df=24\n",
    "t-value at .01,24=2.492\n",
    "\n",
    "since, 2< 2.492\n",
    "Hence we failed to reject the null hypothesis\n",
    "'''"
   ]
  },
  {
   "cell_type": "markdown",
   "id": "9594276d-1418-4dc9-a451-1aebdbc981b0",
   "metadata": {},
   "source": [
    "## Q16. Two groups of students are given different study materials to prepare for a test. The first group (n1 = 30) has a mean score of 80 with a standard deviation of 10, and the second group (n2 = 40) has a mean score of 75 with a standard deviation of 8. Test the hypothesis that the population means for the two groups are equal with a significance level of 0.01."
   ]
  },
  {
   "cell_type": "markdown",
   "id": "49044b1c-97cd-453a-afe8-29d00fa56673",
   "metadata": {},
   "source": [
    "### In this case z-calculated = 2.24356 and z-tabulated=2.33 \n",
    "### So, z-tab > z-cal\n",
    "### Hence, we fail to reject the null hypothesis"
   ]
  },
  {
   "cell_type": "markdown",
   "id": "e96752dd-a914-43d2-bd3b-358ab571314f",
   "metadata": {},
   "source": [
    "## Q17. A marketing company wants to estimate the average number of ads watched by viewers during a TV program. They take a random sample of 50 viewers and find that the sample mean is 4 with a standard deviation of 1.5. Estimate the population mean with a 99% confidence interval. "
   ]
  },
  {
   "cell_type": "markdown",
   "id": "ed213b7b-b104-43e9-b290-db945ebf1b3b",
   "metadata": {},
   "source": [
    "### the c.i. will be 3.4315 to 4.5685"
   ]
  },
  {
   "cell_type": "code",
   "execution_count": null,
   "id": "e6c104ec-2a66-40c1-a718-b9782629e709",
   "metadata": {},
   "outputs": [],
   "source": []
  }
 ],
 "metadata": {
  "kernelspec": {
   "display_name": "Python 3 (ipykernel)",
   "language": "python",
   "name": "python3"
  },
  "language_info": {
   "codemirror_mode": {
    "name": "ipython",
    "version": 3
   },
   "file_extension": ".py",
   "mimetype": "text/x-python",
   "name": "python",
   "nbconvert_exporter": "python",
   "pygments_lexer": "ipython3",
   "version": "3.10.8"
  }
 },
 "nbformat": 4,
 "nbformat_minor": 5
}
